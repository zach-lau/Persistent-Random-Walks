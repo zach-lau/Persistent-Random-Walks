{
 "cells": [
  {
   "cell_type": "markdown",
   "metadata": {},
   "source": [
    "# STAT 547 Experiments\n",
    "This file is for quick experiments on the code"
   ]
  },
  {
   "cell_type": "code",
   "execution_count": 1,
   "metadata": {},
   "outputs": [],
   "source": [
    "from random_walk import *\n",
    "from te import *\n",
    "import random"
   ]
  },
  {
   "cell_type": "markdown",
   "metadata": {},
   "source": [
    "First question - do we always want higher accept probabilites?\n",
    "- If we just have one none one position the answer is yes\n",
    "- In general the answer also appears to be yes\n",
    "We also do a sanity check to see if NRST has a better TE than reversible ST"
   ]
  },
  {
   "cell_type": "code",
   "execution_count": 2,
   "metadata": {},
   "outputs": [
    {
     "name": "stdout",
     "output_type": "stream",
     "text": [
      "0.6963322545846817\n",
      "0.39939521113724397\n",
      "0.316050237101298\n",
      "0.31578947368421045\n"
     ]
    }
   ],
   "source": [
    "random.seed(547)\n",
    "print(te(*nrst_random_walk([1,0.7,0],[0,1,1], 10000),2))\n",
    "print(te(*nrst_random_walk([1,0.2,0],[0,0.2,1], 10000),2))\n",
    "print(te(*nrst_random_walk([0.6,0.7,0],[0,0.7,0.7], 10000),2))\n",
    "print(theory_te([0.6,0.7,0],[0,0.7,0.7]))"
   ]
  },
  {
   "cell_type": "code",
   "execution_count": 3,
   "metadata": {},
   "outputs": [
    {
     "name": "stdout",
     "output_type": "stream",
     "text": [
      "[0.95247142 0.10661535 0.28983061 0.46585491 0.        ]\n",
      "[0.         0.58082625 0.11978489 0.02491289 0.65645936]\n",
      "0.06773284279666728\n",
      "0.040134128596551404\n",
      "0.07208200738371351\n",
      "0.0707946403802215\n",
      "0.02137786420357315\n"
     ]
    }
   ],
   "source": [
    "aup = np.random.rand(5)\n",
    "adown = np.random.rand(5)\n",
    "aup[-1] = 0\n",
    "adown[0] = 0\n",
    "print(aup)\n",
    "print(adown)\n",
    "print(te(*nrst_random_walk(aup, adown, 10000),4))\n",
    "aup[3] = 1 # lets make this better\n",
    "print(te(*nrst_random_walk(aup, adown, 10000),4))\n",
    "adown[3] = 1 # make going down better\n",
    "print(te(*nrst_random_walk(aup, adown, 10000),4))\n",
    "print(theory_te(aup, adown))\n",
    "print(te(*st_random_walk(aup,adown,10000),4))"
   ]
  },
  {
   "cell_type": "code",
   "execution_count": 4,
   "metadata": {},
   "outputs": [
    {
     "name": "stdout",
     "output_type": "stream",
     "text": [
      "0.18162603985296963\n",
      "\n"
     ]
    }
   ],
   "source": [
    "print(te(*nrst_random_walk([0.5,0.5,0],[0,0.5,0.5], 10000),2))\n",
    "print()"
   ]
  },
  {
   "cell_type": "code",
   "execution_count": 5,
   "metadata": {},
   "outputs": [],
   "source": [
    "import numpy as np"
   ]
  },
  {
   "cell_type": "code",
   "execution_count": 6,
   "metadata": {},
   "outputs": [],
   "source": [
    "P = np.matrix([[1,1,0]])"
   ]
  },
  {
   "cell_type": "markdown",
   "metadata": {},
   "source": [
    "Using sympy to attack the problem"
   ]
  },
  {
   "cell_type": "code",
   "execution_count": 7,
   "metadata": {},
   "outputs": [],
   "source": [
    "import sympy"
   ]
  },
  {
   "cell_type": "code",
   "execution_count": 8,
   "metadata": {},
   "outputs": [
    {
     "data": {
      "text/latex": [
       "$\\displaystyle \\frac{\\alpha_{6'}}{\\alpha_{5} \\left(\\frac{\\alpha_{4} \\left(\\frac{\\alpha_{3} \\left(\\frac{\\alpha_{2} \\left(\\frac{\\alpha_{1} \\left(\\frac{1}{\\alpha_{1'}} + \\frac{\\rho_{1}}{\\alpha_{1}}\\right)}{\\alpha_{2'}} + \\frac{\\rho_{2}}{\\alpha_{2}}\\right)}{\\alpha_{3'}} + \\frac{\\rho_{3}}{\\alpha_{3}}\\right)}{\\alpha_{4'}} + \\frac{\\rho_{4}}{\\alpha_{4}}\\right)}{\\alpha_{5'}} + \\frac{\\rho_{5}}{\\alpha_{5}}\\right)}$"
      ],
      "text/plain": [
       "alpha_6'/(alpha_5*(alpha_4*(alpha_3*(alpha_2*(alpha_1*(1/alpha_1' + rho_1/alpha_1)/alpha_2' + rho_2/alpha_2)/alpha_3' + rho_3/alpha_3)/alpha_4' + rho_4/alpha_4)/alpha_5' + rho_5/alpha_5))"
      ]
     },
     "execution_count": 8,
     "metadata": {},
     "output_type": "execute_result"
    }
   ],
   "source": [
    "n = 7\n",
    "aup = sympy.symbols(\" \".join([f\"alpha_{i}\" for i in range(n)]))\n",
    "rup = sympy.symbols(\" \".join([f\"rho_{i}\" for i in range(n)]))\n",
    "# aup = [1-r for r in rup]\n",
    "adown =  sympy.symbols(\" \".join([f\"alpha_{i}\\'\" for i in range(n)]))\n",
    "rdown =  sympy.symbols(\" \".join([f\"rho_{i}\\'\" for i in range(n)]))\n",
    "# rdown = [1-a for a in adown]\n",
    "\n",
    "# P = sympy.zeros(2*n)\n",
    "# for i, (au, ru, ad, rd) in enumerate(zip(aup, rup, adown, rdown)):\n",
    "#     # Going up\n",
    "#     if i < n-1:\n",
    "#         P[2*i,2*i+2] = au\n",
    "#         P[2*i,2*i+1] = ru\n",
    "#     else:\n",
    "#         P[2*i,2*i+1] = 1\n",
    "#     # Going down\n",
    "#     if i > 0:\n",
    "#         P[2*i+1, 2*i-1] = ad\n",
    "#         P[2*i+1, 2*i] = rd\n",
    "#     else:\n",
    "#         P[2*i+1, 2*i] = 1\n",
    "# b = P[:,-2]\n",
    "# P[:,-2] = [0]*(2*n)\n",
    "# P[:,1] = [0]*(2*n) \n",
    "# end_probs = (sympy.eye(2*n)-P).solve(b)\n",
    "# pup = end_probs[1]\n",
    "# pdown = 1-end_probs[-2]\n",
    "# t = pup/(2-pdown)\n",
    "# sympy.simplify(t)\n",
    "# sympy.simplify(pdown)\n",
    "x = adown[1]\n",
    "for i in range(2,n):\n",
    "    # x = adown[i]/(rup[i-1]+1/x)\n",
    "    # x = adown[i]*x/(x+(1-x)*aup[i-1])\n",
    "    x = (adown[i]/aup[i-1])/(rup[i-1]/aup[i-1]+1/x)\n",
    "# x\n",
    "x\n",
    "# sympy.simplify(pdown)"
   ]
  },
  {
   "cell_type": "code",
   "execution_count": 15,
   "metadata": {},
   "outputs": [
    {
     "name": "stdout",
     "output_type": "stream",
     "text": [
      "0.17369147222580478\n",
      "0.17489620201455336\n",
      "(np.float64(0.3195415052140115), np.float64(0.17296486982935175))\n"
     ]
    }
   ],
   "source": [
    "n = 4\n",
    "a_up = np.random.rand(n)\n",
    "a_down = np.random.rand(n)\n",
    "a_up[-1] = 0\n",
    "a_down[0] = 0\n",
    "print(te(*nrst_random_walk(a_up, a_down, 100000),4-1))\n",
    "print(theory_te(a_up,a_down))\n",
    "print(fast_tb_probs(a_up, a_down))"
   ]
  },
  {
   "cell_type": "code",
   "execution_count": 30,
   "metadata": {},
   "outputs": [
    {
     "data": {
      "text/plain": [
       "(np.float64(0.3195415052140114), np.float64(0.1729648698293518))"
      ]
     },
     "execution_count": 30,
     "metadata": {},
     "output_type": "execute_result"
    }
   ],
   "source": [
    "gamma = stationary_probs(a_up,a_down)[0]\n",
    "gamma\n",
    "n = len(a_up)\n",
    "a = gamma[-1]/gamma[0]\n",
    "a += sum([gamma[-1]/gamma[i]*(1-a_up[i])/a_up[i] for i in range(n-1)])\n",
    "b = gamma[0]/gamma[-1]+sum([gamma[0]/gamma[i]*(1/a_down[i]-1) for i in range(1,n)])\n",
    "(1/b,1/a) # pup, pdown"
   ]
  },
  {
   "cell_type": "code",
   "execution_count": 20,
   "metadata": {},
   "outputs": [
    {
     "data": {
      "text/plain": [
       "(np.float64(0.31954150521401165), np.float64(0.17296486982935166))"
      ]
     },
     "execution_count": 20,
     "metadata": {},
     "output_type": "execute_result"
    }
   ],
   "source": [
    "top_bottom_probs(a_up,a_down)"
   ]
  }
 ],
 "metadata": {
  "kernelspec": {
   "display_name": ".env",
   "language": "python",
   "name": "python3"
  },
  "language_info": {
   "codemirror_mode": {
    "name": "ipython",
    "version": 3
   },
   "file_extension": ".py",
   "mimetype": "text/x-python",
   "name": "python",
   "nbconvert_exporter": "python",
   "pygments_lexer": "ipython3",
   "version": "3.12.5"
  }
 },
 "nbformat": 4,
 "nbformat_minor": 2
}
